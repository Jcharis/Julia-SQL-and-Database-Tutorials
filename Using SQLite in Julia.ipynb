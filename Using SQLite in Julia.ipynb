{
 "cells": [
  {
   "cell_type": "markdown",
   "metadata": {},
   "source": [
    "### Julia SQLite\n",
    "#####  SQL - Structured Query Language\n",
    " ---- Using Sqlite in Julia\n",
    "\n",
    "+ Pkg.add(\"SQLite\")\n",
    "\n",
    "##### Main Aspects\n",
    "+ DDL - Data Definition ==> CREATE,ALTER,DROP\n",
    "+ DML - Data Manipulation ==> INSERT,UPDATE,DELETE\n",
    "+ DQL - Data Query ==> SELECT\n",
    "\n",
    "###### Jl Tip\n",
    "+ + SQLite.DB ==> Connect /Create\n",
    "+ + SQLite.execute!(db,\"\") ==> All the manipulations\n",
    "+ + SQLite.query ==> All the querying eg SELECT,reading file\n",
    "+ + SQLite.register ==>  implement your own Scalar Functions"
   ]
  },
  {
   "cell_type": "code",
   "execution_count": 1,
   "metadata": {},
   "outputs": [
    {
     "name": "stderr",
     "output_type": "stream",
     "text": [
      "WARNING: Method definition midpoints(Base.Range{T} where T) in module Base at deprecated.jl:56 overwritten in module StatsBase at /home/rooot/.julia/v0.6/StatsBase/src/hist.jl:535.\n",
      "WARNING: Method definition midpoints(AbstractArray{T, 1} where T) in module Base at deprecated.jl:56 overwritten in module StatsBase at /home/rooot/.julia/v0.6/StatsBase/src/hist.jl:533.\n",
      "WARNING: Method definition ==(Base.Nullable{S}, Base.Nullable{T}) in module Base at nullable.jl:238 overwritten in module NullableArrays at /home/rooot/.julia/v0.6/NullableArrays/src/operators.jl:99.\n"
     ]
    }
   ],
   "source": [
    "using SQLite"
   ]
  },
  {
   "cell_type": "code",
   "execution_count": 2,
   "metadata": {},
   "outputs": [
    {
     "name": "stdout",
     "output_type": "stream",
     "text": [
      "                     @register      0 bytes  SQLite.#@register\n",
      "                       @sr_str      0 bytes  SQLite.#@sr_str\n",
      "                          Data     45 KB     Module\n",
      "                     DataFrame    164 bytes  DataType\n",
      "                        SQLite    184 KB     Module\n",
      "                      register      0 bytes  SQLite.#register\n"
     ]
    }
   ],
   "source": [
    "whos(SQLite)"
   ]
  },
  {
   "cell_type": "code",
   "execution_count": 3,
   "metadata": {},
   "outputs": [
    {
     "data": {
      "text/plain": [
       "SQLite.DB(\"EmployementDB.db\")"
      ]
     },
     "execution_count": 3,
     "metadata": {},
     "output_type": "execute_result"
    }
   ],
   "source": [
    "# Connecting to/Creating a database\n",
    "db = SQLite.DB(\"EmployementDB.db\")"
   ]
  },
  {
   "cell_type": "code",
   "execution_count": 4,
   "metadata": {},
   "outputs": [
    {
     "data": {
      "text/plain": [
       "101"
      ]
     },
     "execution_count": 4,
     "metadata": {},
     "output_type": "execute_result"
    }
   ],
   "source": [
    "# Creating A Table inside the Database\n",
    "SQLite.execute!(db,\"CREATE TABLE IF NOT EXISTS workers( id REAL,name TEXT, age REAL,position TEXT)\")"
   ]
  },
  {
   "cell_type": "code",
   "execution_count": 5,
   "metadata": {},
   "outputs": [
    {
     "data": {
      "text/html": [
       "<table class=\"data-frame\"><thead><tr><th></th><th>name</th></tr></thead><tbody><tr><th>1</th><td>Nullable{String}(\"workers\")</td></tr></tbody></table>"
      ],
      "text/plain": [
       "1×1 DataFrames.DataFrame\n",
       "│ Row │ name      │\n",
       "├─────┼───────────┤\n",
       "│ 1   │ \"workers\" │"
      ]
     },
     "execution_count": 5,
     "metadata": {},
     "output_type": "execute_result"
    }
   ],
   "source": [
    "# Check for Avaliable tables\n",
    "SQLite.tables(db)"
   ]
  },
  {
   "cell_type": "code",
   "execution_count": 6,
   "metadata": {},
   "outputs": [
    {
     "data": {
      "text/plain": [
       "101"
      ]
     },
     "execution_count": 6,
     "metadata": {},
     "output_type": "execute_result"
    }
   ],
   "source": [
    "# Inserting a Data\n",
    "SQLite.execute!(db,\"INSERT INTO workers(id,name,age,position) VALUES(1,'John',2,'Sales Manager')\")"
   ]
  },
  {
   "cell_type": "code",
   "execution_count": 7,
   "metadata": {},
   "outputs": [
    {
     "data": {
      "text/plain": [
       "101"
      ]
     },
     "execution_count": 7,
     "metadata": {},
     "output_type": "execute_result"
    }
   ],
   "source": [
    "# Inserting Multiple Data\n",
    "SQLite.execute!(db,\"INSERT INTO workers(id,name,age,position) VALUES\n",
    "    (2,'Jane',27,'Human Resource Manager'),\n",
    "    (3,'Jesse',24,'IT Manager'),\n",
    "    (4,'Paul',31,'Sales Manager'),\n",
    "    (5,'Kofi',26,'IT Manager'),\n",
    "    (6,'Peter',27,'Human Resource Manager'),\n",
    "    (7,'Vlad',34,'Sales Manager'),\n",
    "    (8,'Krishna',36,' Security'),\n",
    "    (9,'Mary',23,'Secretary'),\n",
    "    (10,'Ayo',30,'Sales Manager')\n",
    "    \")"
   ]
  },
  {
   "cell_type": "code",
   "execution_count": 8,
   "metadata": {},
   "outputs": [
    {
     "data": {
      "text/html": [
       "<table class=\"data-frame\"><thead><tr><th></th><th>cid</th><th>name</th><th>type</th><th>notnull</th><th>dflt_value</th><th>pk</th></tr></thead><tbody><tr><th>1</th><td>Nullable{Int64}(0)</td><td>Nullable{String}(\"id\")</td><td>Nullable{String}(\"REAL\")</td><td>Nullable{Int64}(0)</td><td>Nullable{Any}()</td><td>Nullable{Int64}(0)</td></tr><tr><th>2</th><td>Nullable{Int64}(1)</td><td>Nullable{String}(\"name\")</td><td>Nullable{String}(\"TEXT\")</td><td>Nullable{Int64}(0)</td><td>Nullable{Any}()</td><td>Nullable{Int64}(0)</td></tr><tr><th>3</th><td>Nullable{Int64}(2)</td><td>Nullable{String}(\"age\")</td><td>Nullable{String}(\"REAL\")</td><td>Nullable{Int64}(0)</td><td>Nullable{Any}()</td><td>Nullable{Int64}(0)</td></tr><tr><th>4</th><td>Nullable{Int64}(3)</td><td>Nullable{String}(\"position\")</td><td>Nullable{String}(\"TEXT\")</td><td>Nullable{Int64}(0)</td><td>Nullable{Any}()</td><td>Nullable{Int64}(0)</td></tr></tbody></table>"
      ],
      "text/plain": [
       "4×6 DataFrames.DataFrame\n",
       "│ Row │ cid │ name       │ type   │ notnull │ dflt_value │ pk │\n",
       "├─────┼─────┼────────────┼────────┼─────────┼────────────┼────┤\n",
       "│ 1   │ 0   │ \"id\"       │ \"REAL\" │ 0       │ #NULL      │ 0  │\n",
       "│ 2   │ 1   │ \"name\"     │ \"TEXT\" │ 0       │ #NULL      │ 0  │\n",
       "│ 3   │ 2   │ \"age\"      │ \"REAL\" │ 0       │ #NULL      │ 0  │\n",
       "│ 4   │ 3   │ \"position\" │ \"TEXT\" │ 0       │ #NULL      │ 0  │"
      ]
     },
     "execution_count": 8,
     "metadata": {},
     "output_type": "execute_result"
    }
   ],
   "source": [
    "# Find the columns\n",
    "SQLite.columns(db,\"workers\")"
   ]
  },
  {
   "cell_type": "code",
   "execution_count": 9,
   "metadata": {},
   "outputs": [
    {
     "data": {
      "text/html": [
       "<table class=\"data-frame\"><thead><tr><th></th><th>id</th><th>name</th><th>age</th><th>position</th></tr></thead><tbody><tr><th>1</th><td>Nullable{Float64}(1.0)</td><td>Nullable{String}(\"John\")</td><td>Nullable{Float64}(2.0)</td><td>Nullable{String}(\"Sales Manager\")</td></tr><tr><th>2</th><td>Nullable{Float64}(2.0)</td><td>Nullable{String}(\"Jane\")</td><td>Nullable{Float64}(27.0)</td><td>Nullable{String}(\"Human Resource Manager\")</td></tr><tr><th>3</th><td>Nullable{Float64}(3.0)</td><td>Nullable{String}(\"Jesse\")</td><td>Nullable{Float64}(24.0)</td><td>Nullable{String}(\"IT Manager\")</td></tr><tr><th>4</th><td>Nullable{Float64}(4.0)</td><td>Nullable{String}(\"Paul\")</td><td>Nullable{Float64}(31.0)</td><td>Nullable{String}(\"Sales Manager\")</td></tr><tr><th>5</th><td>Nullable{Float64}(5.0)</td><td>Nullable{String}(\"Kofi\")</td><td>Nullable{Float64}(26.0)</td><td>Nullable{String}(\"IT Manager\")</td></tr><tr><th>6</th><td>Nullable{Float64}(6.0)</td><td>Nullable{String}(\"Peter\")</td><td>Nullable{Float64}(27.0)</td><td>Nullable{String}(\"Human Resource Manager\")</td></tr><tr><th>7</th><td>Nullable{Float64}(7.0)</td><td>Nullable{String}(\"Vlad\")</td><td>Nullable{Float64}(34.0)</td><td>Nullable{String}(\"Sales Manager\")</td></tr><tr><th>8</th><td>Nullable{Float64}(8.0)</td><td>Nullable{String}(\"Krishna\")</td><td>Nullable{Float64}(36.0)</td><td>Nullable{String}(\" Security\")</td></tr><tr><th>9</th><td>Nullable{Float64}(9.0)</td><td>Nullable{String}(\"Mary\")</td><td>Nullable{Float64}(23.0)</td><td>Nullable{String}(\"Secretary\")</td></tr><tr><th>10</th><td>Nullable{Float64}(10.0)</td><td>Nullable{String}(\"Ayo\")</td><td>Nullable{Float64}(30.0)</td><td>Nullable{String}(\"Sales Manager\")</td></tr></tbody></table>"
      ],
      "text/plain": [
       "10×4 DataFrames.DataFrame\n",
       "│ Row │ id   │ name      │ age  │ position                 │\n",
       "├─────┼──────┼───────────┼──────┼──────────────────────────┤\n",
       "│ 1   │ 1.0  │ \"John\"    │ 2.0  │ \"Sales Manager\"          │\n",
       "│ 2   │ 2.0  │ \"Jane\"    │ 27.0 │ \"Human Resource Manager\" │\n",
       "│ 3   │ 3.0  │ \"Jesse\"   │ 24.0 │ \"IT Manager\"             │\n",
       "│ 4   │ 4.0  │ \"Paul\"    │ 31.0 │ \"Sales Manager\"          │\n",
       "│ 5   │ 5.0  │ \"Kofi\"    │ 26.0 │ \"IT Manager\"             │\n",
       "│ 6   │ 6.0  │ \"Peter\"   │ 27.0 │ \"Human Resource Manager\" │\n",
       "│ 7   │ 7.0  │ \"Vlad\"    │ 34.0 │ \"Sales Manager\"          │\n",
       "│ 8   │ 8.0  │ \"Krishna\" │ 36.0 │ \" Security\"              │\n",
       "│ 9   │ 9.0  │ \"Mary\"    │ 23.0 │ \"Secretary\"              │\n",
       "│ 10  │ 10.0 │ \"Ayo\"     │ 30.0 │ \"Sales Manager\"          │"
      ]
     },
     "execution_count": 9,
     "metadata": {},
     "output_type": "execute_result"
    }
   ],
   "source": [
    "# Selecting /Reading from the DB\n",
    "SQLite.query(db,\"SELECT * FROM workers\")"
   ]
  },
  {
   "cell_type": "code",
   "execution_count": 11,
   "metadata": {},
   "outputs": [
    {
     "data": {
      "text/html": [
       "<table class=\"data-frame\"><thead><tr><th></th><th>name</th></tr></thead><tbody><tr><th>1</th><td>Nullable{String}(\"Jesse\")</td></tr></tbody></table>"
      ],
      "text/plain": [
       "1×1 DataFrames.DataFrame\n",
       "│ Row │ name    │\n",
       "├─────┼─────────┤\n",
       "│ 1   │ \"Jesse\" │"
      ]
     },
     "execution_count": 11,
     "metadata": {},
     "output_type": "execute_result"
    }
   ],
   "source": [
    "SQLite.query(db,\"SELECT name FROM workers WHERE age = 24\")"
   ]
  },
  {
   "cell_type": "code",
   "execution_count": 12,
   "metadata": {},
   "outputs": [
    {
     "data": {
      "text/plain": [
       "SQLite.DB(\"chinook.db\")"
      ]
     },
     "execution_count": 12,
     "metadata": {},
     "output_type": "execute_result"
    }
   ],
   "source": [
    "# Connecting to A Database File\n",
    "db1 = SQLite.DB(\"chinook.db\")"
   ]
  },
  {
   "cell_type": "code",
   "execution_count": 13,
   "metadata": {},
   "outputs": [
    {
     "data": {
      "text/html": [
       "<table class=\"data-frame\"><thead><tr><th></th><th>name</th></tr></thead><tbody><tr><th>1</th><td>Nullable{String}(\"albums\")</td></tr><tr><th>2</th><td>Nullable{String}(\"sqlite_sequence\")</td></tr><tr><th>3</th><td>Nullable{String}(\"artists\")</td></tr><tr><th>4</th><td>Nullable{String}(\"customers\")</td></tr><tr><th>5</th><td>Nullable{String}(\"employees\")</td></tr><tr><th>6</th><td>Nullable{String}(\"genres\")</td></tr><tr><th>7</th><td>Nullable{String}(\"invoices\")</td></tr><tr><th>8</th><td>Nullable{String}(\"invoice_items\")</td></tr><tr><th>9</th><td>Nullable{String}(\"media_types\")</td></tr><tr><th>10</th><td>Nullable{String}(\"playlists\")</td></tr><tr><th>11</th><td>Nullable{String}(\"playlist_track\")</td></tr><tr><th>12</th><td>Nullable{String}(\"tracks\")</td></tr><tr><th>13</th><td>Nullable{String}(\"sqlite_stat1\")</td></tr></tbody></table>"
      ],
      "text/plain": [
       "13×1 DataFrames.DataFrame\n",
       "│ Row │ name              │\n",
       "├─────┼───────────────────┤\n",
       "│ 1   │ \"albums\"          │\n",
       "│ 2   │ \"sqlite_sequence\" │\n",
       "│ 3   │ \"artists\"         │\n",
       "│ 4   │ \"customers\"       │\n",
       "│ 5   │ \"employees\"       │\n",
       "│ 6   │ \"genres\"          │\n",
       "│ 7   │ \"invoices\"        │\n",
       "│ 8   │ \"invoice_items\"   │\n",
       "│ 9   │ \"media_types\"     │\n",
       "│ 10  │ \"playlists\"       │\n",
       "│ 11  │ \"playlist_track\"  │\n",
       "│ 12  │ \"tracks\"          │\n",
       "│ 13  │ \"sqlite_stat1\"    │"
      ]
     },
     "execution_count": 13,
     "metadata": {},
     "output_type": "execute_result"
    }
   ],
   "source": [
    "SQLite.tables(db1)"
   ]
  },
  {
   "cell_type": "code",
   "execution_count": 14,
   "metadata": {},
   "outputs": [
    {
     "data": {
      "text/html": [
       "<table class=\"data-frame\"><thead><tr><th></th><th>ArtistId</th><th>Name</th></tr></thead><tbody><tr><th>1</th><td>Nullable{Int64}(1)</td><td>Nullable{String}(\"AC/DC\")</td></tr><tr><th>2</th><td>Nullable{Int64}(2)</td><td>Nullable{String}(\"Accept\")</td></tr><tr><th>3</th><td>Nullable{Int64}(3)</td><td>Nullable{String}(\"Aerosmith\")</td></tr><tr><th>4</th><td>Nullable{Int64}(4)</td><td>Nullable{String}(\"Alanis Morissette\")</td></tr><tr><th>5</th><td>Nullable{Int64}(5)</td><td>Nullable{String}(\"Alice In Chains\")</td></tr><tr><th>6</th><td>Nullable{Int64}(6)</td><td>Nullable{String}(\"Antônio Carlos Jobim\")</td></tr><tr><th>7</th><td>Nullable{Int64}(7)</td><td>Nullable{String}(\"Apocalyptica\")</td></tr><tr><th>8</th><td>Nullable{Int64}(8)</td><td>Nullable{String}(\"Audioslave\")</td></tr><tr><th>9</th><td>Nullable{Int64}(9)</td><td>Nullable{String}(\"BackBeat\")</td></tr><tr><th>10</th><td>Nullable{Int64}(10)</td><td>Nullable{String}(\"Billy Cobham\")</td></tr><tr><th>11</th><td>Nullable{Int64}(11)</td><td>Nullable{String}(\"Black Label Society\")</td></tr><tr><th>12</th><td>Nullable{Int64}(12)</td><td>Nullable{String}(\"Black Sabbath\")</td></tr><tr><th>13</th><td>Nullable{Int64}(13)</td><td>Nullable{String}(\"Body Count\")</td></tr><tr><th>14</th><td>Nullable{Int64}(14)</td><td>Nullable{String}(\"Bruce Dickinson\")</td></tr><tr><th>15</th><td>Nullable{Int64}(15)</td><td>Nullable{String}(\"Buddy Guy\")</td></tr><tr><th>16</th><td>Nullable{Int64}(16)</td><td>Nullable{String}(\"Caetano Veloso\")</td></tr><tr><th>17</th><td>Nullable{Int64}(17)</td><td>Nullable{String}(\"Chico Buarque\")</td></tr><tr><th>18</th><td>Nullable{Int64}(18)</td><td>Nullable{String}(\"Chico Science &amp; Nação Zumbi\")</td></tr><tr><th>19</th><td>Nullable{Int64}(19)</td><td>Nullable{String}(\"Cidade Negra\")</td></tr><tr><th>20</th><td>Nullable{Int64}(20)</td><td>Nullable{String}(\"Cláudio Zoli\")</td></tr><tr><th>21</th><td>Nullable{Int64}(21)</td><td>Nullable{String}(\"Various Artists\")</td></tr><tr><th>22</th><td>Nullable{Int64}(22)</td><td>Nullable{String}(\"Led Zeppelin\")</td></tr><tr><th>23</th><td>Nullable{Int64}(23)</td><td>Nullable{String}(\"Frank Zappa &amp; Captain Beefheart\")</td></tr><tr><th>24</th><td>Nullable{Int64}(24)</td><td>Nullable{String}(\"Marcos Valle\")</td></tr><tr><th>25</th><td>Nullable{Int64}(25)</td><td>Nullable{String}(\"Milton Nascimento &amp; Bebeto\")</td></tr><tr><th>26</th><td>Nullable{Int64}(26)</td><td>Nullable{String}(\"Azymuth\")</td></tr><tr><th>27</th><td>Nullable{Int64}(27)</td><td>Nullable{String}(\"Gilberto Gil\")</td></tr><tr><th>28</th><td>Nullable{Int64}(28)</td><td>Nullable{String}(\"João Gilberto\")</td></tr><tr><th>29</th><td>Nullable{Int64}(29)</td><td>Nullable{String}(\"Bebel Gilberto\")</td></tr><tr><th>30</th><td>Nullable{Int64}(30)</td><td>Nullable{String}(\"Jorge Vercilo\")</td></tr><tr><th>&vellip;</th><td>&vellip;</td><td>&vellip;</td></tr></tbody></table>"
      ],
      "text/plain": [
       "275×2 DataFrames.DataFrame\n",
       "│ Row │ ArtistId │\n",
       "├─────┼──────────┤\n",
       "│ 1   │ 1        │\n",
       "│ 2   │ 2        │\n",
       "│ 3   │ 3        │\n",
       "│ 4   │ 4        │\n",
       "│ 5   │ 5        │\n",
       "│ 6   │ 6        │\n",
       "│ 7   │ 7        │\n",
       "│ 8   │ 8        │\n",
       "│ 9   │ 9        │\n",
       "│ 10  │ 10       │\n",
       "│ 11  │ 11       │\n",
       "⋮\n",
       "│ 264 │ 264      │\n",
       "│ 265 │ 265      │\n",
       "│ 266 │ 266      │\n",
       "│ 267 │ 267      │\n",
       "│ 268 │ 268      │\n",
       "│ 269 │ 269      │\n",
       "│ 270 │ 270      │\n",
       "│ 271 │ 271      │\n",
       "│ 272 │ 272      │\n",
       "│ 273 │ 273      │\n",
       "│ 274 │ 274      │\n",
       "│ 275 │ 275      │\n",
       "\n",
       "│ Row │ Name                                                                                 │\n",
       "├─────┼──────────────────────────────────────────────────────────────────────────────────────┤\n",
       "│ 1   │ \"AC/DC\"                                                                              │\n",
       "│ 2   │ \"Accept\"                                                                             │\n",
       "│ 3   │ \"Aerosmith\"                                                                          │\n",
       "│ 4   │ \"Alanis Morissette\"                                                                  │\n",
       "│ 5   │ \"Alice In Chains\"                                                                    │\n",
       "│ 6   │ \"Antônio Carlos Jobim\"                                                              │\n",
       "│ 7   │ \"Apocalyptica\"                                                                       │\n",
       "│ 8   │ \"Audioslave\"                                                                         │\n",
       "│ 9   │ \"BackBeat\"                                                                           │\n",
       "│ 10  │ \"Billy Cobham\"                                                                       │\n",
       "│ 11  │ \"Black Label Society\"                                                                │\n",
       "⋮\n",
       "│ 264 │ \"Kent Nagano and Orchestre de l'Opéra de Lyon\"                                      │\n",
       "│ 265 │ \"Julian Bream\"                                                                       │\n",
       "│ 266 │ \"Martin Roscoe\"                                                                      │\n",
       "│ 267 │ \"Göteborgs Symfoniker & Neeme Järvi\"                                               │\n",
       "│ 268 │ \"Itzhak Perlman\"                                                                     │\n",
       "│ 269 │ \"Michele Campanella\"                                                                 │\n",
       "│ 270 │ \"Gerald Moore\"                                                                       │\n",
       "│ 271 │ \"Mela Tenenbaum, Pro Musica Prague & Richard Kapp\"                                   │\n",
       "│ 272 │ \"Emerson String Quartet\"                                                             │\n",
       "│ 273 │ \"C. Monteverdi, Nigel Rogers - Chiaroscuro; London Baroque; London Cornett & Sackbu\" │\n",
       "│ 274 │ \"Nash Ensemble\"                                                                      │\n",
       "│ 275 │ \"Philip Glass Ensemble\"                                                              │"
      ]
     },
     "execution_count": 14,
     "metadata": {},
     "output_type": "execute_result"
    }
   ],
   "source": [
    "SQLite.query(db1,\"SELECT * FROM artists\")"
   ]
  },
  {
   "cell_type": "code",
   "execution_count": null,
   "metadata": {},
   "outputs": [],
   "source": [
    "# THANKS\n",
    "# Jesus Saves @ JCharisTech\n",
    "# J-Secur1ty"
   ]
  }
 ],
 "metadata": {
  "kernelspec": {
   "display_name": "Julia 0.6.2",
   "language": "julia",
   "name": "julia-0.6"
  },
  "language_info": {
   "file_extension": ".jl",
   "mimetype": "application/julia",
   "name": "julia",
   "version": "0.6.2"
  }
 },
 "nbformat": 4,
 "nbformat_minor": 2
}
